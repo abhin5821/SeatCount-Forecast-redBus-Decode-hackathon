{
 "cells": [
  {
   "cell_type": "code",
   "execution_count": 1,
   "metadata": {},
   "outputs": [],
   "source": [
    "import pandas as pd\n",
    "import numpy as np\n",
    "import matplotlib.pyplot as plt\n",
    "import seaborn as sns\n",
    "from numpy import pi\n",
    "\n",
    "# ML and preprocessing\n",
    "from sklearn.model_selection import train_test_split\n",
    "from sklearn.preprocessing import StandardScaler\n",
    "from sklearn.metrics import mean_squared_error\n",
    "\n",
    "# Models\n",
    "from sklearn.linear_model import LinearRegression, Ridge, Lasso\n",
    "from sklearn.ensemble import RandomForestRegressor, GradientBoostingRegressor\n",
    "from xgboost import XGBRegressor\n",
    "from lightgbm import LGBMRegressor\n",
    "from catboost import CatBoostRegressor\n"
   ]
  },
  {
   "cell_type": "code",
   "execution_count": 2,
   "metadata": {},
   "outputs": [],
   "source": [
    "pd.set_option('display.max_rows', None)    # Show all rows\n",
    "pd.set_option('display.max_columns', None) # Show all columns\n",
    "pd.set_option('display.width', None)       # No limit on width\n",
    "pd.set_option('display.max_colwidth', None) # Show full column contents.\n"
   ]
  },
  {
   "cell_type": "code",
   "execution_count": 3,
   "metadata": {},
   "outputs": [],
   "source": [
    "# Data set loading.\n",
    "\n",
    "transaction_df = pd.read_csv(\"datasets/transactions.csv\")\n",
    "train_df = pd.read_csv(\"datasets/train.csv\")\n",
    "test_df = pd.read_csv(\"datasets/test.csv\")\n",
    "holiday_df = pd.read_csv(\"datasets/holiday.csv\")\n"
   ]
  },
  {
   "cell_type": "code",
   "execution_count": 4,
   "metadata": {},
   "outputs": [
    {
     "data": {
      "text/plain": [
       "(          doj         doi  srcid  destid    srcid_region   destid_region  \\\n",
       " 0  2023-03-01  2023-01-30     45      46       Karnataka      Tamil Nadu   \n",
       " 1  2023-03-01  2023-01-30     46      45      Tamil Nadu       Karnataka   \n",
       " 2  2023-03-01  2023-01-30     45      47       Karnataka  Andhra Pradesh   \n",
       " 3  2023-03-01  2023-01-30     47      45  Andhra Pradesh       Karnataka   \n",
       " 4  2023-03-01  2023-01-30     46       9      Tamil Nadu      Tamil Nadu   \n",
       " \n",
       "   srcid_tier destid_tier  cumsum_seatcount  cumsum_searchcount  dbd  \n",
       " 0     Tier 1      Tier 1               8.0                76.0   30  \n",
       " 1     Tier 1      Tier 1               8.0                70.0   30  \n",
       " 2     Tier 1      Tier 1               4.0               142.0   30  \n",
       " 3     Tier 1      Tier 1               0.0                68.0   30  \n",
       " 4     Tier 1       Tier2               9.0               162.0   30  ,\n",
       "           doj  srcid  destid  final_seatcount\n",
       " 0  2023-03-01     45      46           2838.0\n",
       " 1  2023-03-01     46      45           2298.0\n",
       " 2  2023-03-01     45      47           2720.0\n",
       " 3  2023-03-01     47      45           2580.0\n",
       " 4  2023-03-01     46       9           4185.0,\n",
       "           route_key         doj  srcid  destid\n",
       " 0  2025-02-11_46_45  2025-02-11     46      45\n",
       " 1  2025-01-20_17_23  2025-01-20     17      23\n",
       " 2  2025-01-08_02_14  2025-01-08      2      14\n",
       " 3  2025-01-08_08_47  2025-01-08      8      47\n",
       " 4  2025-01-08_09_46  2025-01-08      9      46)"
      ]
     },
     "execution_count": 4,
     "metadata": {},
     "output_type": "execute_result"
    }
   ],
   "source": [
    "transaction_df.head(), train_df.head(), test_df.head()\n"
   ]
  },
  {
   "cell_type": "code",
   "execution_count": 5,
   "metadata": {},
   "outputs": [
    {
     "data": {
      "text/plain": [
       "((2266100, 11), (67200, 4), (5900, 4))"
      ]
     },
     "execution_count": 5,
     "metadata": {},
     "output_type": "execute_result"
    }
   ],
   "source": [
    "transaction_df.shape, train_df.shape, test_df.shape"
   ]
  },
  {
   "cell_type": "code",
   "execution_count": 6,
   "metadata": {},
   "outputs": [],
   "source": [
    "train_merged = pd.merge(\n",
    "    train_df,\n",
    "    transaction_df,\n",
    "    on=['doj', 'srcid', 'destid'],\n",
    "    how='left'\n",
    ")\n",
    "\n"
   ]
  },
  {
   "cell_type": "code",
   "execution_count": 7,
   "metadata": {},
   "outputs": [],
   "source": [
    "train_merged['doj'] = pd.to_datetime(train_merged['doj'], format='%Y-%m-%d')\n",
    "holiday_df['Date'] = pd.to_datetime(holiday_df['Date'], format='%Y-%m-%d')\n",
    "\n"
   ]
  },
  {
   "cell_type": "code",
   "execution_count": 8,
   "metadata": {},
   "outputs": [],
   "source": [
    "# Holiday data addition for train data\n",
    "\n",
    "# Create two separate columns: is_national_holiday and is_regional_holiday\n",
    "train_merged['is_national_holiday'] = 0\n",
    "train_merged['is_regional_holiday'] = 0\n",
    "\n",
    "# Mark national holidays: for all rows where doj matches a national holiday date\n",
    "national_dates = set(holiday_df.loc[holiday_df['Holiday_Type'].str.lower() == 'national', 'Date'])\n",
    "train_merged.loc[train_merged['doj'].isin(national_dates), 'is_national_holiday'] = 1\n",
    "\n",
    "# Mark regional holidays: for rows where (doj, destid_region) matches a regional holiday\n",
    "regional_holidays = holiday_df.loc[holiday_df['Holiday_Type'].str.lower() != 'national', ['Date', 'destid_region']]\n",
    "regional_holidays = regional_holidays.drop_duplicates()\n",
    "\n",
    "# Merge to mark regional holidays\n",
    "train_merged = train_merged.merge(\n",
    "    regional_holidays.rename(columns={'Date': 'doj', 'destid_region': 'holiday_region'}),\n",
    "    how='left',\n",
    "    left_on=['doj', 'destid_region'],\n",
    "    right_on=['doj', 'holiday_region']\n",
    ")\n",
    "train_merged['is_regional_holiday'] = train_merged['holiday_region'].notnull().astype(int)\n",
    "train_merged.drop(columns=['holiday_region'], inplace=True)\n"
   ]
  },
  {
   "cell_type": "code",
   "execution_count": 9,
   "metadata": {},
   "outputs": [],
   "source": [
    "test_merged = pd.merge(\n",
    "    test_df,\n",
    "    transaction_df,\n",
    "    on=['doj', 'srcid', 'destid'],\n",
    "    how='left'\n",
    ")"
   ]
  },
  {
   "cell_type": "code",
   "execution_count": 10,
   "metadata": {},
   "outputs": [],
   "source": [
    "test_merged['doj'] = pd.to_datetime(test_merged['doj'], format = '%Y-%m-%d')"
   ]
  },
  {
   "cell_type": "code",
   "execution_count": 11,
   "metadata": {},
   "outputs": [],
   "source": [
    "# holiday date addition for test data\n",
    "\n",
    "# Create two separate columns: is_national_holiday and is_regional_holiday\n",
    "test_merged['is_national_holiday'] = 0\n",
    "test_merged['is_regional_holiday'] = 0\n",
    "\n",
    "# Mark national holidays: for all rows where doj matches a national holiday date\n",
    "national_dates = set(holiday_df.loc[holiday_df['Holiday_Type'].str.lower() == 'national', 'Date'])\n",
    "test_merged.loc[test_merged['doj'].isin(national_dates), 'is_national_holiday'] = 1\n",
    "\n",
    "# Mark regional holidays: for rows where (doj, destid_region) matches a regional holiday\n",
    "regional_holidays = holiday_df.loc[holiday_df['Holiday_Type'].str.lower() != 'national', ['Date', 'destid_region']]\n",
    "regional_holidays = regional_holidays.drop_duplicates()\n",
    "\n",
    "# Merge to mark regional holidays\n",
    "test_merged = test_merged.merge(\n",
    "    regional_holidays.rename(columns={'Date': 'doj', 'destid_region': 'holiday_region'}),\n",
    "    how='left',\n",
    "    left_on=['doj', 'destid_region'],\n",
    "    right_on=['doj', 'holiday_region']\n",
    ")\n",
    "test_merged['is_regional_holiday'] = test_merged['holiday_region'].notnull().astype(int)\n",
    "test_merged.drop(columns=['holiday_region'], inplace=True)"
   ]
  },
  {
   "cell_type": "code",
   "execution_count": 12,
   "metadata": {},
   "outputs": [],
   "source": [
    "\n",
    "def extract_datetime_features(df):\n",
    "    # Save original columns order\n",
    "    orig_cols = list(df.columns)\n",
    "\n",
    "    # Compute new features\n",
    "    new_features = {\n",
    "        'doj_dayofweek': df['doj'].dt.dayofweek,  # Monday=0, Sunday=6\n",
    "        'doj_month': df['doj'].dt.month,\n",
    "        'doj_weekofyear': df['doj'].dt.isocalendar().week.astype(int),\n",
    "        'doj_dayofmonth': df['doj'].dt.day,\n",
    "        'doj_is_start_of_year': ((df['doj'].dt.month == 1) & (df['doj'].dt.day <= 7)).astype(int),\n",
    "        'doj_is_end_of_year': ((df['doj'].dt.month == 12) & (df['doj'].dt.day >= 25)).astype(int)\n",
    "    }\n",
    "\n",
    "    # Add new features after existing columns\n",
    "    for feat, values in new_features.items():\n",
    "        df[feat] = values\n",
    "\n",
    "    # Reorder columns: original columns first, then new features in the order defined above\n",
    "    df = df[orig_cols + list(new_features.keys())]\n",
    "\n",
    "    return df\n",
    "\n",
    "train_merged = extract_datetime_features(train_merged)\n",
    "test_merged = extract_datetime_features(test_merged)\n"
   ]
  },
  {
   "cell_type": "code",
   "execution_count": 13,
   "metadata": {},
   "outputs": [],
   "source": [
    "# Function: Using DBD data to extract features.\n",
    "\n",
    "def dbd_feature_extract(df):\n",
    "\n",
    "    # Daily new seat calculations.\n",
    "\n",
    "    df['daily_new_seat'] = (\n",
    "        df.groupby(['doj', 'srcid', 'destid'])['cumsum_seatcount']\n",
    "        .diff()\n",
    "    )\n",
    "\n",
    "    df['daily_new_search'] = (\n",
    "        df.groupby(['doj', 'srcid', 'destid'])['cumsum_searchcount']\n",
    "        .diff()\n",
    "    )\n",
    "\n",
    "    # Lag features\n",
    "\n",
    "    df['lag1_seat_dbd'] = df.groupby(['doj', 'srcid', 'destid'])['daily_new_seat'].shift(1).fillna(0)\n",
    "    df['lag7_seat_dbd'] = df.groupby(['doj', 'srcid', 'destid'])['daily_new_seat'].shift(7).fillna(0)\n",
    "\n",
    "    df['lag1_search_dbd'] = df.groupby(['doj', 'srcid', 'destid'])['daily_new_search'].shift(1).fillna(0)\n",
    "    df['lag7_search_dbd'] = df.groupby(['doj', 'srcid', 'destid'])['daily_new_search'].shift(7).fillna(0)\n",
    "    \n",
    "    \n",
    "\n",
    "    return df\n",
    "\n",
    "train_merged_dbd = dbd_feature_extract(train_merged)\n",
    "test_merged_dbd = dbd_feature_extract(test_merged)\n"
   ]
  },
  {
   "cell_type": "code",
   "execution_count": 14,
   "metadata": {},
   "outputs": [],
   "source": [
    "train_merged_dbd = train_merged_dbd[train_merged_dbd['dbd'] == 15]\n",
    "test_merged_dbd = test_merged_dbd[test_merged_dbd['dbd'] == 15]"
   ]
  },
  {
   "cell_type": "code",
   "execution_count": 15,
   "metadata": {},
   "outputs": [
    {
     "name": "stderr",
     "output_type": "stream",
     "text": [
      "/var/folders/hg/pwb274jd3fb12trrqfjdp3nh0000gn/T/ipykernel_12836/4258377181.py:5: SettingWithCopyWarning: \n",
      "A value is trying to be set on a copy of a slice from a DataFrame.\n",
      "Try using .loc[row_indexer,col_indexer] = value instead\n",
      "\n",
      "See the caveats in the documentation: https://pandas.pydata.org/pandas-docs/stable/user_guide/indexing.html#returning-a-view-versus-a-copy\n",
      "  df['days_since_start'] = (df['doj'] - agg_df['doj'].min()).dt.days\n",
      "/var/folders/hg/pwb274jd3fb12trrqfjdp3nh0000gn/T/ipykernel_12836/4258377181.py:10: SettingWithCopyWarning: \n",
      "A value is trying to be set on a copy of a slice from a DataFrame.\n",
      "Try using .loc[row_indexer,col_indexer] = value instead\n",
      "\n",
      "See the caveats in the documentation: https://pandas.pydata.org/pandas-docs/stable/user_guide/indexing.html#returning-a-view-versus-a-copy\n",
      "  df['sin_week'] = np.sin(2 * pi * df['days_since_start'] / 7)\n",
      "/var/folders/hg/pwb274jd3fb12trrqfjdp3nh0000gn/T/ipykernel_12836/4258377181.py:11: SettingWithCopyWarning: \n",
      "A value is trying to be set on a copy of a slice from a DataFrame.\n",
      "Try using .loc[row_indexer,col_indexer] = value instead\n",
      "\n",
      "See the caveats in the documentation: https://pandas.pydata.org/pandas-docs/stable/user_guide/indexing.html#returning-a-view-versus-a-copy\n",
      "  df['cos_week'] = np.cos(2 * pi * df['days_since_start'] / 7)\n",
      "/var/folders/hg/pwb274jd3fb12trrqfjdp3nh0000gn/T/ipykernel_12836/4258377181.py:5: SettingWithCopyWarning: \n",
      "A value is trying to be set on a copy of a slice from a DataFrame.\n",
      "Try using .loc[row_indexer,col_indexer] = value instead\n",
      "\n",
      "See the caveats in the documentation: https://pandas.pydata.org/pandas-docs/stable/user_guide/indexing.html#returning-a-view-versus-a-copy\n",
      "  df['days_since_start'] = (df['doj'] - agg_df['doj'].min()).dt.days\n",
      "/var/folders/hg/pwb274jd3fb12trrqfjdp3nh0000gn/T/ipykernel_12836/4258377181.py:10: SettingWithCopyWarning: \n",
      "A value is trying to be set on a copy of a slice from a DataFrame.\n",
      "Try using .loc[row_indexer,col_indexer] = value instead\n",
      "\n",
      "See the caveats in the documentation: https://pandas.pydata.org/pandas-docs/stable/user_guide/indexing.html#returning-a-view-versus-a-copy\n",
      "  df['sin_week'] = np.sin(2 * pi * df['days_since_start'] / 7)\n",
      "/var/folders/hg/pwb274jd3fb12trrqfjdp3nh0000gn/T/ipykernel_12836/4258377181.py:11: SettingWithCopyWarning: \n",
      "A value is trying to be set on a copy of a slice from a DataFrame.\n",
      "Try using .loc[row_indexer,col_indexer] = value instead\n",
      "\n",
      "See the caveats in the documentation: https://pandas.pydata.org/pandas-docs/stable/user_guide/indexing.html#returning-a-view-versus-a-copy\n",
      "  df['cos_week'] = np.cos(2 * pi * df['days_since_start'] / 7)\n"
     ]
    }
   ],
   "source": [
    "# Fourier features\n",
    "\n",
    "def ff(df,agg_df):\n",
    "\n",
    "    df['days_since_start'] = (df['doj'] - agg_df['doj'].min()).dt.days\n",
    "\n",
    "    # for test data, use min doj as the train's data minimum doj\n",
    "    # Weekly periodicity: sin/cos terms for 7-day cycle\n",
    "\n",
    "    df['sin_week'] = np.sin(2 * pi * df['days_since_start'] / 7)\n",
    "    df['cos_week'] = np.cos(2 * pi * df['days_since_start'] / 7)\n",
    "\n",
    "    return df\n",
    "\n",
    "train_final = ff(train_merged_dbd, train_merged)\n",
    "test_final = ff(test_merged_dbd, train_merged)\n"
   ]
  },
  {
   "cell_type": "code",
   "execution_count": 16,
   "metadata": {},
   "outputs": [
    {
     "data": {
      "text/plain": [
       "(Index(['doj', 'srcid', 'destid', 'final_seatcount', 'doi', 'srcid_region',\n",
       "        'destid_region', 'srcid_tier', 'destid_tier', 'cumsum_seatcount',\n",
       "        'cumsum_searchcount', 'dbd', 'is_national_holiday',\n",
       "        'is_regional_holiday', 'doj_dayofweek', 'doj_month', 'doj_weekofyear',\n",
       "        'doj_dayofmonth', 'doj_is_start_of_year', 'doj_is_end_of_year',\n",
       "        'daily_new_seat', 'daily_new_search', 'lag1_seat_dbd', 'lag7_seat_dbd',\n",
       "        'lag1_search_dbd', 'lag7_search_dbd', 'days_since_start', 'sin_week',\n",
       "        'cos_week'],\n",
       "       dtype='object'),\n",
       " Index(['route_key', 'doj', 'srcid', 'destid', 'doi', 'srcid_region',\n",
       "        'destid_region', 'srcid_tier', 'destid_tier', 'cumsum_seatcount',\n",
       "        'cumsum_searchcount', 'dbd', 'is_national_holiday',\n",
       "        'is_regional_holiday', 'doj_dayofweek', 'doj_month', 'doj_weekofyear',\n",
       "        'doj_dayofmonth', 'doj_is_start_of_year', 'doj_is_end_of_year',\n",
       "        'daily_new_seat', 'daily_new_search', 'lag1_seat_dbd', 'lag7_seat_dbd',\n",
       "        'lag1_search_dbd', 'lag7_search_dbd', 'days_since_start', 'sin_week',\n",
       "        'cos_week'],\n",
       "       dtype='object'))"
      ]
     },
     "execution_count": 16,
     "metadata": {},
     "output_type": "execute_result"
    }
   ],
   "source": [
    "train_final.columns, test_final.columns"
   ]
  },
  {
   "cell_type": "code",
   "execution_count": 17,
   "metadata": {},
   "outputs": [],
   "source": [
    "# Remove specified features from train_final\n",
    "features_to_remove = [\n",
    "    'doj', 'doi', 'srcid_region',\n",
    "    'destid_region', 'daily_new_seat', 'daily_new_search','dbd',\n",
    "    \n",
    "    # 'lag1_seat_dbd', 'lag7_seat_dbd', 'lag1_search_dbd', 'lag7_search_dbd', 'days_since_start', 'sin_week', 'cos_week'\n",
    "]\n",
    "train_final = train_final.drop(columns=[col for col in features_to_remove if col in train_final.columns])\n",
    "\n",
    "        "
   ]
  },
  {
   "cell_type": "code",
   "execution_count": 18,
   "metadata": {},
   "outputs": [],
   "source": [
    "features_to_remove_test = [\n",
    "    'doj', 'doi', 'srcid_region',\n",
    "    'destid_region', 'daily_new_seat', 'daily_new_search','route_key','dbd'\n",
    "\n",
    "    # 'lag1_seat_dbd', 'lag7_seat_dbd', 'lag1_search_dbd', 'lag7_search_dbd', 'days_since_start', 'sin_week', 'cos_week','lag1_seat_dbd'\n",
    "]\n",
    "test_final = test_final.drop(columns=[col for col in features_to_remove_test if col in test_final.columns])"
   ]
  },
  {
   "cell_type": "code",
   "execution_count": 19,
   "metadata": {},
   "outputs": [],
   "source": [
    "from sklearn.preprocessing import OneHotEncoder\n",
    "\n",
    "# Features to one-hot encode\n",
    "onehot_features = ['srcid', 'destid', 'srcid_tier', 'destid_tier']\n",
    "\n",
    "# Use 'sparse_output' instead of 'sparse' for newer scikit-learn versions\n",
    "encoder = OneHotEncoder(sparse_output=False, handle_unknown='ignore')\n",
    "\n",
    "# Fit on train_final\n",
    "encoder.fit(train_final[onehot_features])\n",
    "\n",
    "# Transform train and test\n",
    "train_encoded = encoder.transform(train_final[onehot_features])\n",
    "test_encoded = encoder.transform(test_final[onehot_features])\n",
    "\n",
    "# Get new column names\n",
    "encoded_cols = encoder.get_feature_names_out(onehot_features)\n",
    "\n",
    "# Convert to DataFrame\n",
    "import pandas as pd\n",
    "train_encoded_df = pd.DataFrame(train_encoded, columns=encoded_cols, index=train_final.index)\n",
    "test_encoded_df = pd.DataFrame(test_encoded, columns=encoded_cols, index=test_final.index)\n",
    "\n",
    "# Drop original columns and concat encoded\n",
    "train_final = train_final.drop(columns=onehot_features)\n",
    "test_final = test_final.drop(columns=onehot_features)\n",
    "\n",
    "train_final = pd.concat([train_final, train_encoded_df], axis=1)\n",
    "test_final = pd.concat([test_final, test_encoded_df], axis=1)\n"
   ]
  },
  {
   "cell_type": "code",
   "execution_count": 20,
   "metadata": {},
   "outputs": [],
   "source": [
    "# Training phase"
   ]
  },
  {
   "cell_type": "code",
   "execution_count": 21,
   "metadata": {},
   "outputs": [],
   "source": [
    "X = train_final.drop(columns=['final_seatcount'])\n",
    "y = train_final['final_seatcount']\n"
   ]
  },
  {
   "cell_type": "code",
   "execution_count": 45,
   "metadata": {},
   "outputs": [],
   "source": [
    "# Train-test split\n",
    "X_train, X_test, y_train, y_test = train_test_split(X, y, test_size=0.2, random_state=42)"
   ]
  },
  {
   "cell_type": "code",
   "execution_count": 46,
   "metadata": {},
   "outputs": [],
   "source": [
    "# Standardize for linear models\n",
    "scaler = StandardScaler()\n",
    "X_train_scaled = scaler.fit_transform(X_train)\n",
    "X_test_scaled = scaler.transform(X_test)\n"
   ]
  },
  {
   "cell_type": "code",
   "execution_count": 47,
   "metadata": {},
   "outputs": [
    {
     "name": "stdout",
     "output_type": "stream",
     "text": [
      "Training XGBoost...\n",
      "Training LightGBM...\n",
      "[LightGBM] [Warning] Found whitespace in feature_names, replace with underlines\n",
      "[LightGBM] [Info] Auto-choosing row-wise multi-threading, the overhead of testing was 0.001407 seconds.\n",
      "You can set `force_row_wise=true` to remove the overhead.\n",
      "And if memory is not enough, you can set `force_col_wise=true`.\n",
      "[LightGBM] [Info] Total Bins 2227\n",
      "[LightGBM] [Info] Number of data points in the train set: 53760, number of used features: 115\n",
      "[LightGBM] [Info] Start training from score 2003.632533\n",
      "Training CatBoost...\n",
      "\n",
      "🔍 Model Comparison (sorted by RMSE):\n",
      "\n",
      "Model_name   RMSE\n",
      "  CatBoost 398.68\n",
      "   XGBoost 400.86\n",
      "  LightGBM 420.98\n"
     ]
    }
   ],
   "source": [
    "# --------------------------\n",
    "# 📘 Model dictionary\n",
    "# --------------------------\n",
    "models = {\n",
    "    # 'RandomForest': RandomForestRegressor(n_estimators=100, random_state=42),\n",
    "    # 'GradientBoosting': GradientBoostingRegressor(n_estimators=100, random_state=42),\n",
    "    'XGBoost': XGBRegressor(n_estimators=100, random_state=42, verbosity=0),\n",
    "    'LightGBM': LGBMRegressor(n_estimators=100, random_state=42),\n",
    "    'CatBoost': CatBoostRegressor(n_estimators=100, random_state=42, verbose=0)\n",
    "}\n",
    "\n",
    "# --------------------------\n",
    "# 🔁 Model Training + Evaluation\n",
    "# --------------------------\n",
    "results = []\n",
    "model_names = []  # List to store model names after each iteration\n",
    "model_predictions = {}  # Dictionary to store predictions for each model\n",
    "\n",
    "for name, model in models.items():\n",
    "    print(f\"Training {name}...\")\n",
    "\n",
    "    \n",
    "    model.fit(X_train, y_train)\n",
    "    preds = model.predict(X_test)\n",
    "\n",
    "    \n",
    "    rmse = np.sqrt(mean_squared_error(y_test, preds))\n",
    "\n",
    "    results.append({\n",
    "        'Model_name': name,\n",
    "        'RMSE': float(np.round(rmse, 2))\n",
    "    })\n",
    "\n",
    "    test_preds = model.predict(test_final)\n",
    "    model_names.append(name)  # Store the model name as a variable\n",
    "    model_predictions[name] = test_preds  # Store predictions for each model\n",
    "\n",
    "# --------------------------\n",
    "# 🏁 Display Results\n",
    "# --------------------------\n",
    "results_df = pd.DataFrame(results).sort_values(by='RMSE')\n",
    "print(\"\\n🔍 Model Comparison (sorted by RMSE):\\n\")\n",
    "print(results_df.to_string(index=False))\n",
    "\n"
   ]
  },
  {
   "cell_type": "code",
   "execution_count": 25,
   "metadata": {},
   "outputs": [],
   "source": [
    "# make predictions for test data"
   ]
  },
  {
   "cell_type": "code",
   "execution_count": 48,
   "metadata": {},
   "outputs": [
    {
     "data": {
      "text/plain": [
       "array([4212.26288505, 2000.89123365, 1103.62965954, ..., 2033.32001011,\n",
       "       1550.387004  , 2455.67541932])"
      ]
     },
     "execution_count": 48,
     "metadata": {},
     "output_type": "execute_result"
    }
   ],
   "source": [
    "test_pred_cb = model_predictions['CatBoost']\n",
    "test_pred_cb"
   ]
  },
  {
   "cell_type": "code",
   "execution_count": 36,
   "metadata": {},
   "outputs": [],
   "source": [
    "\n",
    "submission = test_merged_dbd[['route_key']].copy()\n",
    "submission['final_seatcount'] = test_pred_cb\n",
    "submission.to_csv(\"final_submission_catboost.csv\", index=False)\n"
   ]
  },
  {
   "cell_type": "code",
   "execution_count": 28,
   "metadata": {},
   "outputs": [],
   "source": [
    "# Other approach"
   ]
  },
  {
   "cell_type": "code",
   "execution_count": 29,
   "metadata": {},
   "outputs": [],
   "source": [
    "# X = train_final.drop(columns=['final_seatcount'])\n",
    "# y = train_final['final_seatcount']\n"
   ]
  },
  {
   "cell_type": "code",
   "execution_count": 30,
   "metadata": {},
   "outputs": [],
   "source": [
    "\n",
    "\n",
    "# import pandas as pd\n",
    "# import numpy as np\n",
    "\n",
    "# from sklearn.model_selection import TimeSeriesSplit, RandomizedSearchCV\n",
    "# from sklearn.metrics import make_scorer, mean_squared_error\n",
    "\n",
    "# from xgboost import XGBRegressor\n",
    "# from lightgbm import LGBMRegressor\n",
    "# from catboost import CatBoostRegressor\n",
    "\n",
    "\n",
    "\n",
    "# # --------------------------\n",
    "# # 2. Time-Series Split\n",
    "# # --------------------------\n",
    "# tscv = TimeSeriesSplit(n_splits=3)\n",
    "\n",
    "# # Custom RMSE scorer (negated for sklearn compatibility)\n",
    "# rmse_scorer = make_scorer(lambda y_true, y_pred: np.sqrt(mean_squared_error(y_true, y_pred)),\n",
    "#                           greater_is_better=False)\n",
    "\n",
    "# # --------------------------\n",
    "# # 3. Define Parameter Grids\n",
    "# # --------------------------\n",
    "# param_grids = {\n",
    "#     'XGBoost': {\n",
    "#         'n_estimators': [100, 300, 500],\n",
    "#         'learning_rate': [0.01, 0.05, 0.1],\n",
    "#         'max_depth': [4, 6, 8, 10],\n",
    "#         'subsample': [0.6, 0.8, 1.0],\n",
    "#         'colsample_bytree': [0.6, 0.8, 1.0],\n",
    "#         'reg_alpha': [0, 0.1, 1],\n",
    "#         'reg_lambda': [1, 5, 10]\n",
    "#     },\n",
    "#     'LightGBM': {\n",
    "#         'n_estimators': [100, 300, 500],\n",
    "#         'learning_rate': [0.01, 0.05, 0.1],\n",
    "#         'num_leaves': [31, 50, 100],\n",
    "#         'subsample': [0.6, 0.8, 1.0],\n",
    "#         'colsample_bytree': [0.6, 0.8, 1.0],\n",
    "#         'reg_alpha': [0, 0.1, 1],\n",
    "#         'reg_lambda': [1, 5, 10]\n",
    "#     },\n",
    "#     'CatBoost': {\n",
    "#         'iterations': [100, 300, 500],\n",
    "#         'learning_rate': [0.01, 0.05, 0.1],\n",
    "#         'depth': [4, 6, 8, 10],\n",
    "#         'l2_leaf_reg': [1, 3, 5, 7],\n",
    "#         'border_count': [32, 64, 128]\n",
    "#     }\n",
    "# }\n",
    "\n",
    "# # --------------------------\n",
    "# # 4. Initialize Models\n",
    "# # --------------------------\n",
    "# models = {\n",
    "#     'XGBoost': XGBRegressor(random_state=42, verbosity=0),\n",
    "#     'LightGBM': LGBMRegressor(random_state=42),\n",
    "#     'CatBoost': CatBoostRegressor(random_state=42, verbose=0)\n",
    "# }\n",
    "\n",
    "# # --------------------------\n",
    "# # 5. Hyperparameter Tuning\n",
    "# # --------------------------\n",
    "# best_estimators = {}\n",
    "# for name, model in models.items():\n",
    "#     print(f\"==> Tuning {name}\")\n",
    "#     param_dist = param_grids[name]\n",
    "#     search = RandomizedSearchCV(\n",
    "#         estimator=model,\n",
    "#         param_distributions=param_dist,\n",
    "#         n_iter=50,\n",
    "#         scoring=rmse_scorer,\n",
    "#         cv=tscv,\n",
    "#         random_state=42,\n",
    "#         n_jobs=-1,\n",
    "#         verbose=1\n",
    "#     )\n",
    "#     search.fit(X, y)\n",
    "#     best_estimators[name] = {\n",
    "#         'best_model': search.best_estimator_,\n",
    "#         'best_params': search.best_params_,\n",
    "#         'best_rmse': -search.best_score_\n",
    "#     }\n",
    "\n",
    "# # --------------------------\n",
    "# # 6. Display Best Results\n",
    "# # --------------------------\n",
    "# results = pd.DataFrame([\n",
    "#     {\n",
    "#         'Model': name,\n",
    "#         'Best_RMSE': info['best_rmse'],\n",
    "#         'Best_Params': info['best_params']\n",
    "#     }\n",
    "#     for name, info in best_estimators.items()\n",
    "# ]).sort_values('Best_RMSE')\n",
    "\n",
    "# results\n"
   ]
  }
 ],
 "metadata": {
  "kernelspec": {
   "display_name": "conda_env",
   "language": "python",
   "name": "python3"
  },
  "language_info": {
   "codemirror_mode": {
    "name": "ipython",
    "version": 3
   },
   "file_extension": ".py",
   "mimetype": "text/x-python",
   "name": "python",
   "nbconvert_exporter": "python",
   "pygments_lexer": "ipython3",
   "version": "3.12.7"
  }
 },
 "nbformat": 4,
 "nbformat_minor": 2
}
